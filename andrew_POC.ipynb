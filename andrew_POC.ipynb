{
 "cells": [
  {
   "cell_type": "markdown",
   "metadata": {},
   "source": [
    "# INDICES (4)"
   ]
  },
  {
   "cell_type": "code",
   "execution_count": 2,
   "metadata": {
    "execution": {
     "iopub.execute_input": "2021-03-18T18:45:53.630139Z",
     "iopub.status.busy": "2021-03-18T18:45:53.629177Z",
     "iopub.status.idle": "2021-03-18T18:45:53.638139Z",
     "shell.execute_reply": "2021-03-18T18:45:53.637179Z",
     "shell.execute_reply.started": "2021-03-18T18:45:53.630139Z"
    }
   },
   "outputs": [],
   "source": [
    "import functools\n",
    "\n",
    "import ipywidgets as widgets\n",
    "\n",
    "import questions as q"
   ]
  },
  {
   "cell_type": "markdown",
   "metadata": {},
   "source": [
    "## To-do list\n",
    "* [x] Auto correction:\n",
    "    * [x] a correct button next to the box\n",
    "    * [x] say next to the box if it's correct or not.\n",
    "    * [ ] do all the questions\n",
    "    * [x] use a separate module\n",
    "\n",
    "* [ ] Look at how to publish notebooks on the web: so other people can access it"
   ]
  },
  {
   "cell_type": "markdown",
   "metadata": {},
   "source": [
    "Simplify the following expressions without using a calculator and leaving the answer in index form only:"
   ]
  },
  {
   "cell_type": "markdown",
   "metadata": {},
   "source": [
    "# 1"
   ]
  },
  {
   "cell_type": "code",
   "execution_count": 3,
   "metadata": {
    "execution": {
     "iopub.execute_input": "2021-03-18T18:45:55.028523Z",
     "iopub.status.busy": "2021-03-18T18:45:55.028523Z",
     "iopub.status.idle": "2021-03-18T18:45:55.048519Z",
     "shell.execute_reply": "2021-03-18T18:45:55.047517Z",
     "shell.execute_reply.started": "2021-03-18T18:45:55.028523Z"
    }
   },
   "outputs": [],
   "source": [
    "q1_lab = r'$9^2 \\times 9^4 \\times 9^3$'\n",
    "q1_ans1 = r'9^(2+4+3)'\n",
    "q1_ans2 = r'9^9'"
   ]
  },
  {
   "cell_type": "code",
   "execution_count": 4,
   "metadata": {
    "execution": {
     "iopub.execute_input": "2021-03-18T18:45:59.840015Z",
     "iopub.status.busy": "2021-03-18T18:45:59.840015Z",
     "iopub.status.idle": "2021-03-18T18:45:59.910045Z",
     "shell.execute_reply": "2021-03-18T18:45:59.907012Z",
     "shell.execute_reply.started": "2021-03-18T18:45:59.840015Z"
    }
   },
   "outputs": [],
   "source": [
    "out1 = widgets.Output()\n",
    "out2 = widgets.Output()\n",
    "q1 = q.TwoBoxQuestion(question_number='1', question_problem=q1_lab, answer1=q1_ans1, out1=out1, \n",
    "                      answer2=q1_ans2, out2=out2)"
   ]
  },
  {
   "cell_type": "code",
   "execution_count": 5,
   "metadata": {
    "execution": {
     "iopub.execute_input": "2021-03-18T18:46:02.113450Z",
     "iopub.status.busy": "2021-03-18T18:46:02.113450Z",
     "iopub.status.idle": "2021-03-18T18:46:02.126411Z",
     "shell.execute_reply": "2021-03-18T18:46:02.125446Z",
     "shell.execute_reply.started": "2021-03-18T18:46:02.113450Z"
    }
   },
   "outputs": [
    {
     "data": {
      "application/vnd.jupyter.widget-view+json": {
       "model_id": "",
       "version_major": 2,
       "version_minor": 0
      },
      "text/plain": [
       "HBox(children=(Label(value='(1)'), Label(value='$9^2 \\\\times 9^4 \\\\times 9^3$'), VBox(children=(HBox(children=…"
      ]
     },
     "metadata": {},
     "output_type": "display_data"
    }
   ],
   "source": [
    "q1.show()"
   ]
  },
  {
   "cell_type": "markdown",
   "metadata": {},
   "source": [
    "# 2"
   ]
  },
  {
   "cell_type": "code",
   "execution_count": 12,
   "metadata": {
    "execution": {
     "iopub.execute_input": "2021-03-18T18:55:37.767055Z",
     "iopub.status.busy": "2021-03-18T18:55:37.766013Z",
     "iopub.status.idle": "2021-03-18T18:55:37.773008Z",
     "shell.execute_reply": "2021-03-18T18:55:37.772009Z",
     "shell.execute_reply.started": "2021-03-18T18:55:37.767055Z"
    }
   },
   "outputs": [],
   "source": [
    "q2_lab = r'$5^5 \\times 5^3 \\div 5^2 =$'\n",
    "q2_ans1 = r'5^(5+3+2)'\n",
    "q2_ans2 = r'5^6'"
   ]
  },
  {
   "cell_type": "code",
   "execution_count": 13,
   "metadata": {
    "execution": {
     "iopub.execute_input": "2021-03-18T18:55:38.379606Z",
     "iopub.status.busy": "2021-03-18T18:55:38.379606Z",
     "iopub.status.idle": "2021-03-18T18:55:38.430566Z",
     "shell.execute_reply": "2021-03-18T18:55:38.429567Z",
     "shell.execute_reply.started": "2021-03-18T18:55:38.379606Z"
    }
   },
   "outputs": [],
   "source": [
    "out3 = widgets.Output()\n",
    "out4 = widgets.Output()\n",
    "q2 = q.TwoBoxQuestion(question_number='2', question_problem=q2_lab, answer1=q2_ans1, out1=out3, \n",
    "                      answer2=q2_ans2, out2=out4)"
   ]
  },
  {
   "cell_type": "code",
   "execution_count": 14,
   "metadata": {
    "execution": {
     "iopub.execute_input": "2021-03-18T18:55:57.783475Z",
     "iopub.status.busy": "2021-03-18T18:55:57.783475Z",
     "iopub.status.idle": "2021-03-18T18:55:57.805470Z",
     "shell.execute_reply": "2021-03-18T18:55:57.804457Z",
     "shell.execute_reply.started": "2021-03-18T18:55:57.783475Z"
    }
   },
   "outputs": [
    {
     "data": {
      "application/vnd.jupyter.widget-view+json": {
       "model_id": "0fabb94c873a47c88c2d037e2efbcc1c",
       "version_major": 2,
       "version_minor": 0
      },
      "text/plain": [
       "HBox(children=(Label(value='(2)'), Label(value='$5^5 \\\\times 5^3 \\\\div 5^2 =$'), VBox(children=(HBox(children=…"
      ]
     },
     "metadata": {},
     "output_type": "display_data"
    }
   ],
   "source": [
    "q2.show()"
   ]
  },
  {
   "cell_type": "markdown",
   "metadata": {},
   "source": [
    "# 3"
   ]
  },
  {
   "cell_type": "code",
   "execution_count": 16,
   "metadata": {
    "execution": {
     "iopub.execute_input": "2021-03-18T18:59:48.856367Z",
     "iopub.status.busy": "2021-03-18T18:59:48.856367Z",
     "iopub.status.idle": "2021-03-18T18:59:48.872367Z",
     "shell.execute_reply": "2021-03-18T18:59:48.871401Z",
     "shell.execute_reply.started": "2021-03-18T18:59:48.856367Z"
    }
   },
   "outputs": [],
   "source": [
    "q3_lab = r'$(4^5)^2 \\times 4^4 =$'\n",
    "q3_ans1 = r'4^((5*2)+4)'\n",
    "q3_ans2 = r'4^14'"
   ]
  },
  {
   "cell_type": "code",
   "execution_count": 18,
   "metadata": {
    "execution": {
     "iopub.execute_input": "2021-03-18T19:00:48.394092Z",
     "iopub.status.busy": "2021-03-18T19:00:48.394092Z",
     "iopub.status.idle": "2021-03-18T19:00:48.441096Z",
     "shell.execute_reply": "2021-03-18T19:00:48.440090Z",
     "shell.execute_reply.started": "2021-03-18T19:00:48.394092Z"
    }
   },
   "outputs": [],
   "source": [
    "out5 = widgets.Output()\n",
    "out6 = widgets.Output()\n",
    "q3 = q.TwoBoxQuestion(question_number='3', question_problem=q3_lab, answer1=q3_ans1, out1=out5, \n",
    "                      answer2=q3_ans2, out2=out6)"
   ]
  },
  {
   "cell_type": "code",
   "execution_count": 19,
   "metadata": {
    "execution": {
     "iopub.execute_input": "2021-03-18T19:00:52.570719Z",
     "iopub.status.busy": "2021-03-18T19:00:52.570719Z",
     "iopub.status.idle": "2021-03-18T19:00:52.581718Z",
     "shell.execute_reply": "2021-03-18T19:00:52.580758Z",
     "shell.execute_reply.started": "2021-03-18T19:00:52.570719Z"
    }
   },
   "outputs": [
    {
     "data": {
      "application/vnd.jupyter.widget-view+json": {
       "model_id": "cb148dc15b8b41e4a2ed6696bc9d0ee8",
       "version_major": 2,
       "version_minor": 0
      },
      "text/plain": [
       "HBox(children=(Label(value='(3)'), Label(value='$(4^5)^2 \\\\times 4^4 =$'), VBox(children=(HBox(children=(Text(…"
      ]
     },
     "metadata": {},
     "output_type": "display_data"
    }
   ],
   "source": [
    "q3.show()"
   ]
  },
  {
   "cell_type": "markdown",
   "metadata": {},
   "source": [
    "# 4"
   ]
  },
  {
   "cell_type": "code",
   "execution_count": 21,
   "metadata": {
    "execution": {
     "iopub.execute_input": "2021-03-18T19:02:41.842136Z",
     "iopub.status.busy": "2021-03-18T19:02:41.842136Z",
     "iopub.status.idle": "2021-03-18T19:02:41.860095Z",
     "shell.execute_reply": "2021-03-18T19:02:41.859097Z",
     "shell.execute_reply.started": "2021-03-18T19:02:41.842136Z"
    }
   },
   "outputs": [],
   "source": [
    "q4_lab = r'$(p^3 \\times p^2)^6 =$'\n",
    "q4_ans1 = r''\n",
    "q4_ans2 = r''"
   ]
  },
  {
   "cell_type": "code",
   "execution_count": 22,
   "metadata": {
    "execution": {
     "iopub.execute_input": "2021-03-18T19:02:42.368939Z",
     "iopub.status.busy": "2021-03-18T19:02:42.368939Z",
     "iopub.status.idle": "2021-03-18T19:02:42.422897Z",
     "shell.execute_reply": "2021-03-18T19:02:42.421894Z",
     "shell.execute_reply.started": "2021-03-18T19:02:42.368939Z"
    }
   },
   "outputs": [],
   "source": [
    "out7 = widgets.Output()\n",
    "out8 = widgets.Output()\n",
    "q4 = q.TwoBoxQuestion(question_number='4', question_problem=q4_lab, answer1=q4_ans1, out1=out7, \n",
    "                      answer2=q4_ans2, out2=out8)"
   ]
  },
  {
   "cell_type": "code",
   "execution_count": 25,
   "metadata": {
    "execution": {
     "iopub.execute_input": "2021-03-18T19:03:02.386144Z",
     "iopub.status.busy": "2021-03-18T19:03:02.386144Z",
     "iopub.status.idle": "2021-03-18T19:03:02.396143Z",
     "shell.execute_reply": "2021-03-18T19:03:02.395138Z",
     "shell.execute_reply.started": "2021-03-18T19:03:02.386144Z"
    }
   },
   "outputs": [
    {
     "data": {
      "application/vnd.jupyter.widget-view+json": {
       "model_id": "b06d769ba2e949ccb90c2f232aee065d",
       "version_major": 2,
       "version_minor": 0
      },
      "text/plain": [
       "HBox(children=(Label(value='(4)'), Label(value='$(p^3 \\\\times p^2)^6 =$'), VBox(children=(HBox(children=(Text(…"
      ]
     },
     "metadata": {},
     "output_type": "display_data"
    }
   ],
   "source": [
    "q4.show()"
   ]
  },
  {
   "cell_type": "markdown",
   "metadata": {},
   "source": [
    "# 5"
   ]
  },
  {
   "cell_type": "code",
   "execution_count": 28,
   "metadata": {
    "execution": {
     "iopub.execute_input": "2021-03-18T19:03:56.131780Z",
     "iopub.status.busy": "2021-03-18T19:03:56.130780Z",
     "iopub.status.idle": "2021-03-18T19:03:56.144780Z",
     "shell.execute_reply": "2021-03-18T19:03:56.143815Z",
     "shell.execute_reply.started": "2021-03-18T19:03:56.131780Z"
    }
   },
   "outputs": [],
   "source": [
    "q5_lab = r'$(e^2)^5 =$'\n",
    "q5_ans1 = r''\n",
    "q5_ans2 = r''"
   ]
  },
  {
   "cell_type": "code",
   "execution_count": 29,
   "metadata": {
    "execution": {
     "iopub.execute_input": "2021-03-18T19:04:27.645193Z",
     "iopub.status.busy": "2021-03-18T19:04:27.645193Z",
     "iopub.status.idle": "2021-03-18T19:04:27.695159Z",
     "shell.execute_reply": "2021-03-18T19:04:27.694158Z",
     "shell.execute_reply.started": "2021-03-18T19:04:27.645193Z"
    }
   },
   "outputs": [],
   "source": [
    "out9 = widgets.Output()\n",
    "out10 = widgets.Output()\n",
    "q5 = q.TwoBoxQuestion(question_number='5', question_problem=q5_lab, answer1=q5_ans1, out1=out9, \n",
    "                      answer2=q5_ans2, out2=out10)"
   ]
  },
  {
   "cell_type": "code",
   "execution_count": 30,
   "metadata": {
    "execution": {
     "iopub.execute_input": "2021-03-18T19:04:31.138629Z",
     "iopub.status.busy": "2021-03-18T19:04:31.137651Z",
     "iopub.status.idle": "2021-03-18T19:04:31.149626Z",
     "shell.execute_reply": "2021-03-18T19:04:31.148626Z",
     "shell.execute_reply.started": "2021-03-18T19:04:31.138629Z"
    }
   },
   "outputs": [
    {
     "data": {
      "application/vnd.jupyter.widget-view+json": {
       "model_id": "8d7d585a6ef54ca7a678769448ea24b5",
       "version_major": 2,
       "version_minor": 0
      },
      "text/plain": [
       "HBox(children=(Label(value='(5)'), Label(value='$(e^2)^5 =$'), VBox(children=(HBox(children=(Text(value=''), B…"
      ]
     },
     "metadata": {},
     "output_type": "display_data"
    }
   ],
   "source": [
    "q5.show()"
   ]
  },
  {
   "cell_type": "markdown",
   "metadata": {},
   "source": [
    "# 6"
   ]
  },
  {
   "cell_type": "code",
   "execution_count": 32,
   "metadata": {
    "execution": {
     "iopub.execute_input": "2021-03-18T19:06:17.973925Z",
     "iopub.status.busy": "2021-03-18T19:06:17.972888Z",
     "iopub.status.idle": "2021-03-18T19:06:17.986887Z",
     "shell.execute_reply": "2021-03-18T19:06:17.985885Z",
     "shell.execute_reply.started": "2021-03-18T19:06:17.973925Z"
    }
   },
   "outputs": [],
   "source": [
    "q6_lab = r'$(d^5 \\div d^2)^5 =$'\n",
    "q6_ans1 = r''\n",
    "q6_ans2 = r''"
   ]
  },
  {
   "cell_type": "code",
   "execution_count": 33,
   "metadata": {
    "execution": {
     "iopub.execute_input": "2021-03-18T19:06:18.318388Z",
     "iopub.status.busy": "2021-03-18T19:06:18.318388Z",
     "iopub.status.idle": "2021-03-18T19:06:18.379403Z",
     "shell.execute_reply": "2021-03-18T19:06:18.378387Z",
     "shell.execute_reply.started": "2021-03-18T19:06:18.318388Z"
    }
   },
   "outputs": [],
   "source": [
    "out11 = widgets.Output()\n",
    "out12 = widgets.Output()\n",
    "q6 = q.TwoBoxQuestion(question_number='6', question_problem=q6_lab, answer1=q6_ans1, out1=out11, \n",
    "                      answer2=q6_ans2, out2=out12)"
   ]
  },
  {
   "cell_type": "code",
   "execution_count": 34,
   "metadata": {
    "execution": {
     "iopub.execute_input": "2021-03-18T19:06:22.953747Z",
     "iopub.status.busy": "2021-03-18T19:06:22.952726Z",
     "iopub.status.idle": "2021-03-18T19:06:22.963720Z",
     "shell.execute_reply": "2021-03-18T19:06:22.962724Z",
     "shell.execute_reply.started": "2021-03-18T19:06:22.953747Z"
    }
   },
   "outputs": [
    {
     "data": {
      "application/vnd.jupyter.widget-view+json": {
       "model_id": "422dfe46200049289c05743ee5921b3c",
       "version_major": 2,
       "version_minor": 0
      },
      "text/plain": [
       "HBox(children=(Label(value='(6)'), Label(value='$(d^5 \\\\div d^2)^5 =$'), VBox(children=(HBox(children=(Text(va…"
      ]
     },
     "metadata": {},
     "output_type": "display_data"
    }
   ],
   "source": [
    "q6.show()"
   ]
  },
  {
   "cell_type": "markdown",
   "metadata": {},
   "source": [
    "# 7"
   ]
  },
  {
   "cell_type": "code",
   "execution_count": 37,
   "metadata": {
    "execution": {
     "iopub.execute_input": "2021-03-18T19:07:01.491761Z",
     "iopub.status.busy": "2021-03-18T19:07:01.491761Z",
     "iopub.status.idle": "2021-03-18T19:07:01.496772Z",
     "shell.execute_reply": "2021-03-18T19:07:01.495750Z",
     "shell.execute_reply.started": "2021-03-18T19:07:01.491761Z"
    }
   },
   "outputs": [],
   "source": [
    "q7_lab = r'$\\frac{x^5 \\times x^4}{x^2} =$'\n",
    "q7_ans1 = r''\n",
    "q7_ans2 = r''"
   ]
  },
  {
   "cell_type": "code",
   "execution_count": 38,
   "metadata": {
    "execution": {
     "iopub.execute_input": "2021-03-18T19:07:28.060784Z",
     "iopub.status.busy": "2021-03-18T19:07:28.060784Z",
     "iopub.status.idle": "2021-03-18T19:07:28.114814Z",
     "shell.execute_reply": "2021-03-18T19:07:28.112796Z",
     "shell.execute_reply.started": "2021-03-18T19:07:28.060784Z"
    }
   },
   "outputs": [],
   "source": [
    "out13 = widgets.Output()\n",
    "out14 = widgets.Output()\n",
    "q7 = q.TwoBoxQuestion(question_number='7', question_problem=q7_lab, answer1=q7_ans1, out1=out13, \n",
    "                      answer2=q7_ans2, out2=out14)"
   ]
  },
  {
   "cell_type": "code",
   "execution_count": 39,
   "metadata": {
    "execution": {
     "iopub.execute_input": "2021-03-18T19:07:31.063666Z",
     "iopub.status.busy": "2021-03-18T19:07:31.063666Z",
     "iopub.status.idle": "2021-03-18T19:07:31.073681Z",
     "shell.execute_reply": "2021-03-18T19:07:31.072698Z",
     "shell.execute_reply.started": "2021-03-18T19:07:31.063666Z"
    }
   },
   "outputs": [
    {
     "data": {
      "application/vnd.jupyter.widget-view+json": {
       "model_id": "e14a09c8bd364ae4b2056fee47fe877a",
       "version_major": 2,
       "version_minor": 0
      },
      "text/plain": [
       "HBox(children=(Label(value='(7)'), Label(value='$\\\\frac{x^5 \\\\times x^4}{x^2} =$'), VBox(children=(HBox(childr…"
      ]
     },
     "metadata": {},
     "output_type": "display_data"
    }
   ],
   "source": [
    "q7.show()"
   ]
  },
  {
   "cell_type": "markdown",
   "metadata": {},
   "source": [
    "# 8"
   ]
  },
  {
   "cell_type": "code",
   "execution_count": 41,
   "metadata": {
    "execution": {
     "iopub.execute_input": "2021-03-18T19:08:07.836467Z",
     "iopub.status.busy": "2021-03-18T19:08:07.836467Z",
     "iopub.status.idle": "2021-03-18T19:08:07.855467Z",
     "shell.execute_reply": "2021-03-18T19:08:07.854466Z",
     "shell.execute_reply.started": "2021-03-18T19:08:07.836467Z"
    }
   },
   "outputs": [],
   "source": [
    "q8_lab = r'$\\frac{w^6 \\times w^4}{w^3 \\times w^5} =$'\n",
    "q8_ans1 = r''\n",
    "q8_ans2 = r''"
   ]
  },
  {
   "cell_type": "code",
   "execution_count": 42,
   "metadata": {
    "execution": {
     "iopub.execute_input": "2021-03-18T19:08:50.008776Z",
     "iopub.status.busy": "2021-03-18T19:08:50.008776Z",
     "iopub.status.idle": "2021-03-18T19:08:50.056779Z",
     "shell.execute_reply": "2021-03-18T19:08:50.054779Z",
     "shell.execute_reply.started": "2021-03-18T19:08:50.008776Z"
    }
   },
   "outputs": [],
   "source": [
    "out15 = widgets.Output()\n",
    "out16 = widgets.Output()\n",
    "q8 = q.TwoBoxQuestion(question_number='8', question_problem=q8_lab, answer1=q8_ans1, out1=out15, \n",
    "                      answer2=q8_ans2, out2=out16)"
   ]
  },
  {
   "cell_type": "code",
   "execution_count": 43,
   "metadata": {
    "execution": {
     "iopub.execute_input": "2021-03-18T19:08:54.294811Z",
     "iopub.status.busy": "2021-03-18T19:08:54.293809Z",
     "iopub.status.idle": "2021-03-18T19:08:54.304810Z",
     "shell.execute_reply": "2021-03-18T19:08:54.303806Z",
     "shell.execute_reply.started": "2021-03-18T19:08:54.294811Z"
    }
   },
   "outputs": [
    {
     "data": {
      "application/vnd.jupyter.widget-view+json": {
       "model_id": "0176ef2db92140abbc896fc1b2a5c173",
       "version_major": 2,
       "version_minor": 0
      },
      "text/plain": [
       "HBox(children=(Label(value='(8)'), Label(value='$\\\\frac{w^6 \\\\times w^4}{w^3 \\\\times w^5} =$'), VBox(children=…"
      ]
     },
     "metadata": {},
     "output_type": "display_data"
    }
   ],
   "source": [
    "q8.show()"
   ]
  },
  {
   "cell_type": "markdown",
   "metadata": {},
   "source": [
    "# 9"
   ]
  },
  {
   "cell_type": "code",
   "execution_count": 45,
   "metadata": {
    "execution": {
     "iopub.execute_input": "2021-03-18T19:09:22.859281Z",
     "iopub.status.busy": "2021-03-18T19:09:22.859281Z",
     "iopub.status.idle": "2021-03-18T19:09:22.875281Z",
     "shell.execute_reply": "2021-03-18T19:09:22.874280Z",
     "shell.execute_reply.started": "2021-03-18T19:09:22.859281Z"
    }
   },
   "outputs": [],
   "source": [
    "q9_lab = r'$(\\frac{k^9 \\times k^2}{k^3 \\times k^3})^3 =$'\n",
    "q9_ans1 = r''\n",
    "q9_ans2 = r''"
   ]
  },
  {
   "cell_type": "code",
   "execution_count": 46,
   "metadata": {
    "execution": {
     "iopub.execute_input": "2021-03-18T19:10:13.603790Z",
     "iopub.status.busy": "2021-03-18T19:10:13.603790Z",
     "iopub.status.idle": "2021-03-18T19:10:13.647792Z",
     "shell.execute_reply": "2021-03-18T19:10:13.646790Z",
     "shell.execute_reply.started": "2021-03-18T19:10:13.603790Z"
    }
   },
   "outputs": [],
   "source": [
    "out17 = widgets.Output()\n",
    "out18 = widgets.Output()\n",
    "q9 = q.TwoBoxQuestion(question_number='9', question_problem=q9_lab, answer1=q9_ans1, out1=out17, \n",
    "                      answer2=q9_ans2, out2=out18)"
   ]
  },
  {
   "cell_type": "code",
   "execution_count": 47,
   "metadata": {
    "execution": {
     "iopub.execute_input": "2021-03-18T19:10:17.339225Z",
     "iopub.status.busy": "2021-03-18T19:10:17.339225Z",
     "iopub.status.idle": "2021-03-18T19:10:17.358800Z",
     "shell.execute_reply": "2021-03-18T19:10:17.357799Z",
     "shell.execute_reply.started": "2021-03-18T19:10:17.339225Z"
    }
   },
   "outputs": [
    {
     "data": {
      "application/vnd.jupyter.widget-view+json": {
       "model_id": "3912d02c41cd4f969f9f50dc13eb3da7",
       "version_major": 2,
       "version_minor": 0
      },
      "text/plain": [
       "HBox(children=(Label(value='(9)'), Label(value='$(\\\\frac{k^9 \\\\times k^2}{k^3 \\\\times k^3})^3 =$'), VBox(child…"
      ]
     },
     "metadata": {},
     "output_type": "display_data"
    }
   ],
   "source": [
    "q9.show()"
   ]
  }
 ],
 "metadata": {
  "kernelspec": {
   "display_name": "xhrss-audit-venv",
   "language": "python",
   "name": "xhrss_audit_venv"
  },
  "language_info": {
   "codemirror_mode": {
    "name": "ipython",
    "version": 3
   },
   "file_extension": ".py",
   "mimetype": "text/x-python",
   "name": "python",
   "nbconvert_exporter": "python",
   "pygments_lexer": "ipython3",
   "version": "3.8.6"
  }
 },
 "nbformat": 4,
 "nbformat_minor": 4
}
