{
 "cells": [
  {
   "cell_type": "markdown",
   "metadata": {},
   "source": [
    "# INDICES (4)"
   ]
  },
  {
   "cell_type": "code",
   "execution_count": 26,
   "metadata": {
    "execution": {
     "iopub.execute_input": "2021-03-09T18:31:50.253082Z",
     "iopub.status.busy": "2021-03-09T18:31:50.252084Z",
     "iopub.status.idle": "2021-03-09T18:31:50.258080Z",
     "shell.execute_reply": "2021-03-09T18:31:50.257079Z",
     "shell.execute_reply.started": "2021-03-09T18:31:50.253082Z"
    }
   },
   "outputs": [],
   "source": [
    "import functools\n",
    "\n",
    "import ipywidgets as widgets"
   ]
  },
  {
   "cell_type": "markdown",
   "metadata": {},
   "source": [
    "Simplify the following expressions without using a calculator and leaving the answer in index form only:"
   ]
  },
  {
   "cell_type": "markdown",
   "metadata": {},
   "source": [
    "$9^{2+4+3}$"
   ]
  },
  {
   "cell_type": "code",
   "execution_count": 36,
   "metadata": {
    "execution": {
     "iopub.execute_input": "2021-03-09T18:43:20.906125Z",
     "iopub.status.busy": "2021-03-09T18:43:20.905089Z",
     "iopub.status.idle": "2021-03-09T18:43:20.910110Z",
     "shell.execute_reply": "2021-03-09T18:43:20.909096Z",
     "shell.execute_reply.started": "2021-03-09T18:43:20.905089Z"
    }
   },
   "outputs": [],
   "source": [
    "q1_lab = r'$9^2 \\times 9^4 \\times 9^3$'\n",
    "q1_ans1 = r'9^(2+4+3)'\n",
    "q1_ans2 = r'9^9'"
   ]
  },
  {
   "cell_type": "code",
   "execution_count": 40,
   "metadata": {
    "execution": {
     "iopub.execute_input": "2021-03-09T18:48:31.067307Z",
     "iopub.status.busy": "2021-03-09T18:48:31.067307Z",
     "iopub.status.idle": "2021-03-09T18:48:31.156304Z",
     "shell.execute_reply": "2021-03-09T18:48:31.155304Z",
     "shell.execute_reply.started": "2021-03-09T18:48:31.067307Z"
    }
   },
   "outputs": [
    {
     "data": {
      "application/vnd.jupyter.widget-view+json": {
       "model_id": "1846c59b714c4f348479408824d3a9c5",
       "version_major": 2,
       "version_minor": 0
      },
      "text/plain": [
       "HBox(children=(Label(value='(1)'), Label(value='$9^2 \\\\times 9^4 \\\\times 9^3$'), VBox(children=(HBox(children=…"
      ]
     },
     "metadata": {},
     "output_type": "display_data"
    }
   ],
   "source": [
    "out1 = widgets.Output()\n",
    "out2 = widgets.Output()\n",
    "button1 = widgets.Button(description=\"Check\")\n",
    "button2 = widgets.Button(description=\"Check\")\n",
    "\n",
    "def q1_correction(b, box, answer, out):\n",
    "    with out:\n",
    "        out.clear_output()\n",
    "        if q1.children[2].children[box].children[0].value == answer:\n",
    "            print('CORRECT')\n",
    "        else:\n",
    "            print('Try again')\n",
    "            \n",
    "button1.on_click(functools.partial(q1_correction, box=0, answer=q1_ans1, out=out1))\n",
    "button2.on_click(functools.partial(q1_correction, box=1, answer=q1_ans2, out=out2))\n",
    "\n",
    "q1 = widgets.HBox([widgets.Label('(1)'), widgets.Label(q1_lab), \n",
    "                   widgets.VBox([widgets.HBox([widgets.Text(), \n",
    "                                               button1, \n",
    "                                               out1]), \n",
    "                                 widgets.HBox([widgets.Text(), \n",
    "                                               button2, \n",
    "                                               out2])\n",
    "                                ])\n",
    "                  ])\n",
    "q1"
   ]
  },
  {
   "cell_type": "code",
   "execution_count": 34,
   "metadata": {
    "execution": {
     "iopub.execute_input": "2021-03-09T18:38:56.533480Z",
     "iopub.status.busy": "2021-03-09T18:38:56.533480Z",
     "iopub.status.idle": "2021-03-09T18:38:56.540478Z",
     "shell.execute_reply": "2021-03-09T18:38:56.539480Z",
     "shell.execute_reply.started": "2021-03-09T18:38:56.533480Z"
    }
   },
   "outputs": [
    {
     "data": {
      "application/vnd.jupyter.widget-view+json": {
       "model_id": "1f01eb1eab914a9abbe85618ea947b25",
       "version_major": 2,
       "version_minor": 0
      },
      "text/plain": [
       "Text(value='9^(2+4+3)')"
      ]
     },
     "metadata": {},
     "output_type": "display_data"
    }
   ],
   "source": [
    "q1.children[2].children[0].children[0]"
   ]
  },
  {
   "cell_type": "markdown",
   "metadata": {},
   "source": [
    "## Auto correction\n",
    "a correct button next to the box\n",
    "say next to the box if it's correct or not.\n",
    "\n",
    "## Look at how to publish notebooks on the web\n",
    "so other people can access it"
   ]
  },
  {
   "cell_type": "code",
   "execution_count": 10,
   "metadata": {
    "execution": {
     "iopub.execute_input": "2021-03-09T18:08:16.084592Z",
     "iopub.status.busy": "2021-03-09T18:08:16.083594Z",
     "iopub.status.idle": "2021-03-09T18:08:16.088614Z",
     "shell.execute_reply": "2021-03-09T18:08:16.087593Z",
     "shell.execute_reply.started": "2021-03-09T18:08:16.084592Z"
    }
   },
   "outputs": [
    {
     "data": {
      "text/plain": [
       "True"
      ]
     },
     "execution_count": 10,
     "metadata": {},
     "output_type": "execute_result"
    }
   ],
   "source": [
    "q1.children[2].children[0].value == '9^(2+4+3)'\n",
    "# cls.obj.children[0].children[1].value"
   ]
  },
  {
   "cell_type": "code",
   "execution_count": 54,
   "metadata": {
    "execution": {
     "iopub.execute_input": "2021-03-02T23:10:15.078913Z",
     "iopub.status.busy": "2021-03-02T23:10:15.077912Z",
     "iopub.status.idle": "2021-03-02T23:10:15.094910Z",
     "shell.execute_reply": "2021-03-02T23:10:15.092910Z",
     "shell.execute_reply.started": "2021-03-02T23:10:15.078913Z"
    }
   },
   "outputs": [
    {
     "ename": "NameError",
     "evalue": "name 'rq1' is not defined",
     "output_type": "error",
     "traceback": [
      "\u001b[1;31m---------------------------------------------------------------------------\u001b[0m",
      "\u001b[1;31mNameError\u001b[0m                                 Traceback (most recent call last)",
      "\u001b[1;32m<ipython-input-54-7cb98a7e383b>\u001b[0m in \u001b[0;36m<module>\u001b[1;34m\u001b[0m\n\u001b[1;32m----> 1\u001b[1;33m \u001b[0mrq1\u001b[0m\u001b[1;33m.\u001b[0m\u001b[0mchildren\u001b[0m\u001b[1;33m[\u001b[0m\u001b[1;36m2\u001b[0m\u001b[1;33m]\u001b[0m\u001b[1;33m.\u001b[0m\u001b[0mvalue\u001b[0m\u001b[1;33m\u001b[0m\u001b[1;33m\u001b[0m\u001b[0m\n\u001b[0m\u001b[0;32m      2\u001b[0m \u001b[1;31m# cls.obj.children[0].children[1].value\u001b[0m\u001b[1;33m\u001b[0m\u001b[1;33m\u001b[0m\u001b[1;33m\u001b[0m\u001b[0m\n",
      "\u001b[1;31mNameError\u001b[0m: name 'rq1' is not defined"
     ]
    }
   ],
   "source": [
    "q1.children[2].value\n",
    "# cls.obj.children[0].children[1].value"
   ]
  },
  {
   "cell_type": "code",
   "execution_count": 22,
   "metadata": {
    "execution": {
     "iopub.execute_input": "2021-03-03T19:56:27.397228Z",
     "iopub.status.busy": "2021-03-03T19:56:27.396228Z",
     "iopub.status.idle": "2021-03-03T19:56:27.422228Z",
     "shell.execute_reply": "2021-03-03T19:56:27.422228Z",
     "shell.execute_reply.started": "2021-03-03T19:56:27.396228Z"
    }
   },
   "outputs": [
    {
     "data": {
      "application/vnd.jupyter.widget-view+json": {
       "model_id": "d18feb0a5cb2467a880599c3b7d491ce",
       "version_major": 2,
       "version_minor": 0
      },
      "text/plain": [
       "HBox(children=(Label(value='(2)'), Label(value='$5^5 \\\\times 5^3 \\\\div 5^2 =$'), Text(value=''), Text(value=''…"
      ]
     },
     "metadata": {},
     "output_type": "display_data"
    }
   ],
   "source": [
    "widgets.HBox([widgets.Label('(2)'), widgets.Label(r'$5^5 \\times 5^3 \\div 5^2 =$'), widgets.Text(), widgets.Text()])"
   ]
  },
  {
   "cell_type": "code",
   "execution_count": 23,
   "metadata": {
    "execution": {
     "iopub.execute_input": "2021-03-03T19:56:28.721628Z",
     "iopub.status.busy": "2021-03-03T19:56:28.721628Z",
     "iopub.status.idle": "2021-03-03T19:56:28.749580Z",
     "shell.execute_reply": "2021-03-03T19:56:28.748599Z",
     "shell.execute_reply.started": "2021-03-03T19:56:28.721628Z"
    }
   },
   "outputs": [
    {
     "data": {
      "application/vnd.jupyter.widget-view+json": {
       "model_id": "76d86b16f3ce4e7eb46c0e50f64c26e5",
       "version_major": 2,
       "version_minor": 0
      },
      "text/plain": [
       "HBox(children=(Label(value='(3)'), Label(value='$(4^5)^2 \\\\times 4^4 =$'), Text(value=''), Text(value='')))"
      ]
     },
     "metadata": {},
     "output_type": "display_data"
    }
   ],
   "source": [
    "widgets.HBox([widgets.Label('(3)'), widgets.Label(r'$(4^5)^2 \\times 4^4 =$'), widgets.Text(), widgets.Text()])"
   ]
  },
  {
   "cell_type": "code",
   "execution_count": 24,
   "metadata": {
    "execution": {
     "iopub.execute_input": "2021-03-03T19:56:29.315412Z",
     "iopub.status.busy": "2021-03-03T19:56:29.314372Z",
     "iopub.status.idle": "2021-03-03T19:56:29.343386Z",
     "shell.execute_reply": "2021-03-03T19:56:29.342390Z",
     "shell.execute_reply.started": "2021-03-03T19:56:29.315412Z"
    }
   },
   "outputs": [
    {
     "data": {
      "application/vnd.jupyter.widget-view+json": {
       "model_id": "73718c20016346428267f94d563eb7e0",
       "version_major": 2,
       "version_minor": 0
      },
      "text/plain": [
       "HBox(children=(Label(value='(4)'), Label(value='$(p^3 \\\\times p^2)^6 =$'), Text(value=''), Text(value='')))"
      ]
     },
     "metadata": {},
     "output_type": "display_data"
    }
   ],
   "source": [
    "widgets.HBox([widgets.Label('(4)'), widgets.Label(r'$(p^3 \\times p^2)^6 =$'), widgets.Text(), widgets.Text()])"
   ]
  },
  {
   "cell_type": "code",
   "execution_count": 25,
   "metadata": {
    "execution": {
     "iopub.execute_input": "2021-03-03T19:56:29.644191Z",
     "iopub.status.busy": "2021-03-03T19:56:29.644191Z",
     "iopub.status.idle": "2021-03-03T19:56:29.681155Z",
     "shell.execute_reply": "2021-03-03T19:56:29.680155Z",
     "shell.execute_reply.started": "2021-03-03T19:56:29.644191Z"
    }
   },
   "outputs": [
    {
     "data": {
      "application/vnd.jupyter.widget-view+json": {
       "model_id": "38d63d0413d04bc3929218e368b8ee98",
       "version_major": 2,
       "version_minor": 0
      },
      "text/plain": [
       "HBox(children=(Label(value='(5)'), Label(value='$(e^2)^5 =$'), Text(value=''), Text(value='')))"
      ]
     },
     "metadata": {},
     "output_type": "display_data"
    }
   ],
   "source": [
    "widgets.HBox([widgets.Label('(5)'), widgets.Label(r'$(e^2)^5 =$'), widgets.Text(), widgets.Text()])"
   ]
  },
  {
   "cell_type": "code",
   "execution_count": 26,
   "metadata": {
    "execution": {
     "iopub.execute_input": "2021-03-03T19:56:29.868156Z",
     "iopub.status.busy": "2021-03-03T19:56:29.868156Z",
     "iopub.status.idle": "2021-03-03T19:56:29.894157Z",
     "shell.execute_reply": "2021-03-03T19:56:29.893197Z",
     "shell.execute_reply.started": "2021-03-03T19:56:29.868156Z"
    }
   },
   "outputs": [
    {
     "data": {
      "application/vnd.jupyter.widget-view+json": {
       "model_id": "5f93f93f73f84b0193f4ad8f46f2ad98",
       "version_major": 2,
       "version_minor": 0
      },
      "text/plain": [
       "HBox(children=(Label(value='(6)'), Label(value='$(d^5 \\\\div d^2)^5 =$'), Text(value=''), Text(value='')))"
      ]
     },
     "metadata": {},
     "output_type": "display_data"
    }
   ],
   "source": [
    "widgets.HBox([widgets.Label('(6)'), widgets.Label(r'$(d^5 \\div d^2)^5 =$'), widgets.Text(), widgets.Text()])"
   ]
  },
  {
   "cell_type": "code",
   "execution_count": 27,
   "metadata": {
    "execution": {
     "iopub.execute_input": "2021-03-03T19:56:30.045400Z",
     "iopub.status.busy": "2021-03-03T19:56:30.044400Z",
     "iopub.status.idle": "2021-03-03T19:56:30.075433Z",
     "shell.execute_reply": "2021-03-03T19:56:30.075433Z",
     "shell.execute_reply.started": "2021-03-03T19:56:30.045400Z"
    }
   },
   "outputs": [
    {
     "data": {
      "application/vnd.jupyter.widget-view+json": {
       "model_id": "55b57c1be3c5478ea924425b5eba68b3",
       "version_major": 2,
       "version_minor": 0
      },
      "text/plain": [
       "HBox(children=(Label(value='(7)'), Label(value='$\\\\frac{x^5 \\\\times x^4}{x^2} =$'), Text(value=''), Text(value…"
      ]
     },
     "metadata": {},
     "output_type": "display_data"
    }
   ],
   "source": [
    "widgets.HBox([widgets.Label('(7)'), widgets.Label(r'$\\frac{x^5 \\times x^4}{x^2} =$'), widgets.Text(), widgets.Text()])"
   ]
  },
  {
   "cell_type": "code",
   "execution_count": 28,
   "metadata": {
    "execution": {
     "iopub.execute_input": "2021-03-03T19:56:30.635782Z",
     "iopub.status.busy": "2021-03-03T19:56:30.635782Z",
     "iopub.status.idle": "2021-03-03T19:56:30.659783Z",
     "shell.execute_reply": "2021-03-03T19:56:30.658811Z",
     "shell.execute_reply.started": "2021-03-03T19:56:30.635782Z"
    }
   },
   "outputs": [
    {
     "data": {
      "application/vnd.jupyter.widget-view+json": {
       "model_id": "bcff00eb272e43e496463d20a222c990",
       "version_major": 2,
       "version_minor": 0
      },
      "text/plain": [
       "HBox(children=(Label(value='(8)'), Label(value='$\\\\frac{w^6 \\\\times w^4}{w^3 \\\\times w^5} =$'), Text(value='')…"
      ]
     },
     "metadata": {},
     "output_type": "display_data"
    }
   ],
   "source": [
    "widgets.HBox([widgets.Label('(8)'), widgets.Label(r'$\\frac{w^6 \\times w^4}{w^3 \\times w^5} =$'), widgets.Text(), widgets.Text()])"
   ]
  },
  {
   "cell_type": "code",
   "execution_count": 29,
   "metadata": {
    "execution": {
     "iopub.execute_input": "2021-03-03T19:56:30.866899Z",
     "iopub.status.busy": "2021-03-03T19:56:30.866899Z",
     "iopub.status.idle": "2021-03-03T19:56:30.894899Z",
     "shell.execute_reply": "2021-03-03T19:56:30.893934Z",
     "shell.execute_reply.started": "2021-03-03T19:56:30.866899Z"
    }
   },
   "outputs": [
    {
     "data": {
      "application/vnd.jupyter.widget-view+json": {
       "model_id": "0de324a44ee74487bbbf1b91c3927734",
       "version_major": 2,
       "version_minor": 0
      },
      "text/plain": [
       "HBox(children=(Label(value='(8)'), Label(value='$(\\\\frac{k^9 \\\\times k^2}{k^3 \\\\times k^3})^3 =$'), Text(value…"
      ]
     },
     "metadata": {},
     "output_type": "display_data"
    }
   ],
   "source": [
    "widgets.HBox([widgets.Label('(8)'), widgets.Label(r'$(\\frac{k^9 \\times k^2}{k^3 \\times k^3})^3 =$'), widgets.Text(), widgets.Text()])"
   ]
  },
  {
   "cell_type": "code",
   "execution_count": null,
   "metadata": {},
   "outputs": [],
   "source": []
  }
 ],
 "metadata": {
  "kernelspec": {
   "display_name": "xhrss-audit-venv",
   "language": "python",
   "name": "xhrss_audit_venv"
  },
  "language_info": {
   "codemirror_mode": {
    "name": "ipython",
    "version": 3
   },
   "file_extension": ".py",
   "mimetype": "text/x-python",
   "name": "python",
   "nbconvert_exporter": "python",
   "pygments_lexer": "ipython3",
   "version": "3.8.6"
  }
 },
 "nbformat": 4,
 "nbformat_minor": 4
}
